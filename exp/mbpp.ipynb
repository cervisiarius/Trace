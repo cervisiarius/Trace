{
 "cells": [
  {
   "cell_type": "code",
   "execution_count": 8,
   "metadata": {},
   "outputs": [],
   "source": [
    "def program(pairs, num=None, var3=None, var4=None):\n",
    "    \"\"\"\n",
    "    A function that processes inputs into an output.\n",
    "    \"\"\"\n",
    "    global Pair\n",
    "    class Pair:\n",
    "        def __init__(self, a, b):\n",
    "            self.a = a\n",
    "            self.b = b\n",
    "\n",
    "    pairs.sort(key=lambda x: x[1])\n",
    "    max_length = 1\n",
    "    current_end = pairs[0][1]\n",
    "    for i in range(1, len(pairs)):\n",
    "        if pairs[i][0] > current_end:\n",
    "            current_end = pairs[i][1]\n",
    "            max_length += 1\n",
    "    return max_length"
   ]
  },
  {
   "cell_type": "code",
   "execution_count": 9,
   "metadata": {},
   "outputs": [
    {
     "ename": "NameError",
     "evalue": "name 'Pair' is not defined",
     "output_type": "error",
     "traceback": [
      "\u001b[0;31m---------------------------------------------------------------------------\u001b[0m",
      "\u001b[0;31mNameError\u001b[0m                                 Traceback (most recent call last)",
      "Cell \u001b[0;32mIn[9], line 1\u001b[0m\n\u001b[0;32m----> 1\u001b[0m program([\u001b[43mPair\u001b[49m(\u001b[38;5;241m1\u001b[39m, \u001b[38;5;241m2\u001b[39m), Pair(\u001b[38;5;241m2\u001b[39m, \u001b[38;5;241m3\u001b[39m), Pair(\u001b[38;5;241m3\u001b[39m, \u001b[38;5;241m4\u001b[39m), Pair(\u001b[38;5;241m1\u001b[39m, \u001b[38;5;241m3\u001b[39m)])\n",
      "\u001b[0;31mNameError\u001b[0m: name 'Pair' is not defined"
     ]
    }
   ],
   "source": [
    "\n"
   ]
  },
  {
   "cell_type": "code",
   "execution_count": null,
   "metadata": {},
   "outputs": [],
   "source": []
  }
 ],
 "metadata": {
  "kernelspec": {
   "display_name": "trace",
   "language": "python",
   "name": "python3"
  },
  "language_info": {
   "codemirror_mode": {
    "name": "ipython",
    "version": 3
   },
   "file_extension": ".py",
   "mimetype": "text/x-python",
   "name": "python",
   "nbconvert_exporter": "python",
   "pygments_lexer": "ipython3",
   "version": "3.9.19"
  }
 },
 "nbformat": 4,
 "nbformat_minor": 2
}
