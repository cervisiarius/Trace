{
 "cells": [
  {
   "cell_type": "code",
   "execution_count": 1,
   "metadata": {},
   "outputs": [
    {
     "name": "stdout",
     "output_type": "stream",
     "text": [
      "624 250\n"
     ]
    }
   ],
   "source": [
    "import json\n",
    "\n",
    "def load_jsonl(path):\n",
    "    with open(path, 'r') as f:\n",
    "        data = f.readlines()\n",
    "    data = [json.loads(d) for d in data]\n",
    "    return data\n",
    "\n",
    "train_data = load_jsonl('../data/mbpp/mbpp_codex_verification_train.jsonl')\n",
    "test_data = load_jsonl('../data/mbpp/mbpp_codex_verification_test.jsonl')\n",
    "train_data = train_data + test_data[:250]\n",
    "test_data = test_data[250:]\n",
    "print(len(train_data), len(test_data))"
   ]
  },
  {
   "cell_type": "code",
   "execution_count": 2,
   "metadata": {},
   "outputs": [
    {
     "name": "stdout",
     "output_type": "stream",
     "text": [
      "dict_keys(['text', 'code', 'task_id', 'test_setup_code', 'test_list', 'challenge_test_list', 'func_signature', 'func_body', 'pad_token_id', 'correct_token_idx', 'incorrect_token_idx'])\n"
     ]
    }
   ],
   "source": [
    "d = test_data[7]\n",
    "instruction = d['metadata']['text']\n",
    "test_setup_code = d['metadata']['test_setup_code']\n",
    "test_list = d['metadata']['test_list']\n",
    "print(d['metadata'].keys())"
   ]
  },
  {
   "cell_type": "code",
   "execution_count": 3,
   "metadata": {},
   "outputs": [
    {
     "name": "stdout",
     "output_type": "stream",
     "text": [
      "def dog_age(h_age):\n",
      " if h_age < 0:\n",
      " \texit()\n",
      " elif h_age <= 2:\n",
      "\t d_age = h_age * 10.5\n",
      " else:\n",
      "\t d_age = 21 + (h_age - 2)*4\n",
      " return d_age\n"
     ]
    }
   ],
   "source": [
    "print(d['metadata']['func_signature'])\n",
    "print(d['metadata']['func_body'])"
   ]
  },
  {
   "cell_type": "code",
   "execution_count": 4,
   "metadata": {},
   "outputs": [
    {
     "name": "stdout",
     "output_type": "stream",
     "text": [
      "def dog_age(h_age):\n",
      " if h_age < 0:\n",
      " \texit()\n",
      " elif h_age <= 2:\n",
      "\t d_age = h_age * 10.5\n",
      " else:\n",
      "\t d_age = 21 + (h_age - 2)*4\n",
      " return d_age\n",
      "Write a function to calculate a dog's age in dog's years.\n",
      "['assert dog_age(12)==61', 'assert dog_age(15)==73', 'assert dog_age(24)==109']\n"
     ]
    }
   ],
   "source": [
    "print(d['metadata']['code'])\n",
    "print(d['metadata']['text'])\n",
    "print(d['metadata']['test_list'])"
   ]
  },
  {
   "cell_type": "code",
   "execution_count": null,
   "metadata": {},
   "outputs": [],
   "source": [
    "from opto.trace import node, bundle, GRAPH\n",
    "from opto.trace.errors import ExecutionError\n",
    "from opto.trace.nodes import ExceptionNode\n",
    "\n",
    "GRAPH.clear()\n",
    "\n",
    "@bundle(trainable=True)\n",
    "def func(x):\n",
    "    return x"
   ]
  }
 ],
 "metadata": {
  "kernelspec": {
   "display_name": "trace",
   "language": "python",
   "name": "python3"
  },
  "language_info": {
   "codemirror_mode": {
    "name": "ipython",
    "version": 3
   },
   "file_extension": ".py",
   "mimetype": "text/x-python",
   "name": "python",
   "nbconvert_exporter": "python",
   "pygments_lexer": "ipython3",
   "version": "3.9.19"
  }
 },
 "nbformat": 4,
 "nbformat_minor": 2
}
